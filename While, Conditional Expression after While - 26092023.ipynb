{
 "cells": [
  {
   "cell_type": "markdown",
   "id": "29b80453",
   "metadata": {},
   "source": [
    "### Functions While"
   ]
  },
  {
   "cell_type": "markdown",
   "id": "82c260cd",
   "metadata": {},
   "source": [
    "- While in Python is used to execute a statement as long as a given condition is met (True).\n",
    "- The condition can be any expression, and note that True in Python includes all non-zero values.\n",
    "- When the condition becomes False, the program will continue to the line after the statement block."
   ]
  },
  {
   "cell_type": "markdown",
   "id": "0668f7bd",
   "metadata": {},
   "source": [
    "Caution :"
   ]
  },
  {
   "cell_type": "code",
   "execution_count": null,
   "id": "4cace3d7",
   "metadata": {},
   "outputs": [],
   "source": [
    "# angka = int(input())\n",
    "\n",
    "# while (angka < 3) :\n",
    "#     print(\"bilangan\")"
   ]
  },
  {
   "cell_type": "code",
   "execution_count": 1,
   "id": "6b0ec647",
   "metadata": {},
   "outputs": [
    {
     "name": "stdout",
     "output_type": "stream",
     "text": [
      "2\n",
      "bilangan 2\n"
     ]
    }
   ],
   "source": [
    "angka = int(input())\n",
    "\n",
    "while (angka < 3) :\n",
    "    print(\"bilangan {}\".format(angka))\n",
    "    angka = angka + 1"
   ]
  },
  {
   "cell_type": "code",
   "execution_count": 2,
   "id": "862bd8b7",
   "metadata": {},
   "outputs": [
    {
     "name": "stdout",
     "output_type": "stream",
     "text": [
      "6\n",
      "bilangan 6\n",
      "bilangan 8\n"
     ]
    }
   ],
   "source": [
    "angka = int(input())\n",
    "\n",
    "while (angka < 10) :\n",
    "    print(\"bilangan {}\".format(angka))\n",
    "    angka = angka + 2"
   ]
  },
  {
   "cell_type": "markdown",
   "id": "b5f876d5",
   "metadata": {},
   "source": [
    "TASK 1 - Making Functions While"
   ]
  },
  {
   "cell_type": "code",
   "execution_count": 3,
   "id": "03507721",
   "metadata": {},
   "outputs": [
    {
     "name": "stdout",
     "output_type": "stream",
     "text": [
      "23\n",
      "bilangan 23\n",
      "bilangan 28\n",
      "bilangan 33\n",
      "bilangan 38\n",
      "bilangan 43\n",
      "bilangan 48\n"
     ]
    }
   ],
   "source": [
    "angka = int(input())\n",
    "\n",
    "while (angka < 50) :\n",
    "    print(\"bilangan {}\".format(angka))\n",
    "    angka = angka + 5"
   ]
  },
  {
   "cell_type": "markdown",
   "id": "bee3d423",
   "metadata": {},
   "source": [
    "### Else after While"
   ]
  },
  {
   "cell_type": "markdown",
   "id": "919b4ac2",
   "metadata": {},
   "source": [
    "In the While statement, the Else statement block will always be executed when the condition in While becomes false."
   ]
  },
  {
   "cell_type": "code",
   "execution_count": 4,
   "id": "bdec79c5",
   "metadata": {},
   "outputs": [
    {
     "name": "stdout",
     "output_type": "stream",
     "text": [
      "5\n",
      "7\n",
      "9\n",
      "11\n",
      "Looping selesai\n"
     ]
    }
   ],
   "source": [
    "angka = int(input())\n",
    "\n",
    "while (angka < 10) : #kurang dari\n",
    "    angka = angka + 2\n",
    "    if angka == 6 :\n",
    "        break\n",
    "    print(angka)\n",
    "else :\n",
    "    print(\"Looping selesai\")"
   ]
  },
  {
   "cell_type": "markdown",
   "id": "13e5d962",
   "metadata": {},
   "source": [
    "TASK 2 - Making Functions While (Else) & Conditional (If, Elif, Else)"
   ]
  },
  {
   "cell_type": "code",
   "execution_count": 5,
   "id": "63ce22a7",
   "metadata": {},
   "outputs": [
    {
     "name": "stdout",
     "output_type": "stream",
     "text": [
      "Masukkan sebuah angka: 8\n",
      "8 adalah bilangan genap.\n",
      "Masukkan angka lain (0 untuk berhenti): 0\n",
      "Anda telah keluar dari perulangan.\n"
     ]
    }
   ],
   "source": [
    "angka = int(input(\"Masukkan sebuah angka: \"))\n",
    "while angka > 0:\n",
    "    if angka % 5 == 0:\n",
    "        print(f\"{angka} adalah kelipatan 5.\")\n",
    "        break\n",
    "    elif angka % 2 == 0:\n",
    "        print(f\"{angka} adalah bilangan genap.\")\n",
    "    else:\n",
    "        print(f\"{angka} adalah bilangan ganjil yang bukan kelipatan 5.\")\n",
    "    angka = int(input(\"Masukkan angka lain (0 untuk berhenti): \"))\n",
    "else:\n",
    "    print(\"Anda telah keluar dari perulangan.\")"
   ]
  },
  {
   "cell_type": "markdown",
   "id": "1e882bc6",
   "metadata": {},
   "source": [
    "OTHER EXAMPLES"
   ]
  },
  {
   "cell_type": "code",
   "execution_count": 6,
   "id": "a8200b96",
   "metadata": {},
   "outputs": [
    {
     "name": "stdout",
     "output_type": "stream",
     "text": [
      "4\n",
      "Hari ke-4 : Rabu\n"
     ]
    }
   ],
   "source": [
    "hari = int(input())\n",
    "while 1 <= hari <= 7 :\n",
    "    if hari == 1 :\n",
    "        print(\"Hari ke-1 : Minggu\")\n",
    "        break\n",
    "    elif hari == 2 :\n",
    "        print(\"Hari ke-2 : Senin\")\n",
    "        break\n",
    "    elif hari == 3 :\n",
    "        print(\"Hari ke-3 : Selasa\")\n",
    "        break\n",
    "    elif hari == 4 :\n",
    "        print(\"Hari ke-4 : Rabu\")\n",
    "        break\n",
    "    elif hari == 5 :\n",
    "        print(\"Hari ke-5 : Kamis\")\n",
    "        break\n",
    "    elif hari == 6 :\n",
    "        print(\"Hari ke-6 : Jumat\")\n",
    "        break\n",
    "    else :\n",
    "        print(\"Hari ke-7 : Sabtu\")\n",
    "        break\n",
    "else :\n",
    "    print(\"Hari Tidak ditemukan\")\n",
    "    "
   ]
  },
  {
   "cell_type": "code",
   "execution_count": 8,
   "id": "874662dc",
   "metadata": {},
   "outputs": [
    {
     "name": "stdout",
     "output_type": "stream",
     "text": [
      "6\n",
      "4\n",
      "2\n",
      "0\n",
      "Looping selesai\n"
     ]
    }
   ],
   "source": [
    "angka = int(input())\n",
    "\n",
    "while (angka > 0) : #lebih dari\n",
    "    angka = angka - 2\n",
    "    print(angka)\n",
    "else :\n",
    "    print(\"Looping selesai\")"
   ]
  },
  {
   "cell_type": "markdown",
   "id": "27496e7f",
   "metadata": {},
   "source": [
    "TASK 3 - Making Else after While (more than)"
   ]
  },
  {
   "cell_type": "code",
   "execution_count": null,
   "id": "96b6cf02",
   "metadata": {},
   "outputs": [],
   "source": [
    "x = int(input())\n",
    "\n",
    "while (x > 20) : \n",
    "    x = x - 2\n",
    "    print(x)\n",
    "else :\n",
    "    print(\"Looping selesai\")"
   ]
  },
  {
   "cell_type": "markdown",
   "id": "1febb9a1",
   "metadata": {},
   "source": [
    "TASK 4 - HACKERRANK PRACTICE"
   ]
  },
  {
   "cell_type": "code",
   "execution_count": 52,
   "id": "5026e411",
   "metadata": {},
   "outputs": [
    {
     "name": "stdout",
     "output_type": "stream",
     "text": [
      "88\n",
      "Pass\n"
     ]
    }
   ],
   "source": [
    "nilai = int(input().strip())\n",
    "if nilai <= 70 :\n",
    "    print(\"Fail\")\n",
    "else :\n",
    "    if (20<= nilai <=70) :\n",
    "        print(\"Fail\")\n",
    "    elif (70<= nilai <=100) :\n",
    "        print(\"Pass\")"
   ]
  }
 ],
 "metadata": {
  "kernelspec": {
   "display_name": "Python 3 (ipykernel)",
   "language": "python",
   "name": "python3"
  },
  "language_info": {
   "codemirror_mode": {
    "name": "ipython",
    "version": 3
   },
   "file_extension": ".py",
   "mimetype": "text/x-python",
   "name": "python",
   "nbconvert_exporter": "python",
   "pygments_lexer": "ipython3",
   "version": "3.11.4"
  }
 },
 "nbformat": 4,
 "nbformat_minor": 5
}
