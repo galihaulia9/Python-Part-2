{
 "cells": [
  {
   "cell_type": "markdown",
   "id": "38fb2d2f",
   "metadata": {},
   "source": [
    "### List Comprehension (making List with inline Loop and If)"
   ]
  },
  {
   "cell_type": "markdown",
   "id": "9df1ff93",
   "metadata": {},
   "source": [
    "There are times when we need to create a new list from a previous list operation."
   ]
  },
  {
   "cell_type": "markdown",
   "id": "7369bd1b",
   "metadata": {},
   "source": [
    "List Comprehension is a way to generate new lists based on existing lists or iterables."
   ]
  },
  {
   "cell_type": "code",
   "execution_count": 1,
   "id": "f0767cf6",
   "metadata": {},
   "outputs": [],
   "source": [
    "angka = [2,3,4]"
   ]
  },
  {
   "cell_type": "code",
   "execution_count": 2,
   "id": "d5d0c2c7",
   "metadata": {},
   "outputs": [],
   "source": [
    "kubik = []"
   ]
  },
  {
   "cell_type": "code",
   "execution_count": 3,
   "id": "ad724f45",
   "metadata": {},
   "outputs": [
    {
     "name": "stdout",
     "output_type": "stream",
     "text": [
      "[8, 27, 64]\n"
     ]
    }
   ],
   "source": [
    "for i in angka :\n",
    "    kubik.append(i**3)\n",
    "print(kubik)"
   ]
  },
  {
   "cell_type": "markdown",
   "id": "89ceeabf",
   "metadata": {},
   "source": [
    "TASK 1 - Making List Comprehension"
   ]
  },
  {
   "cell_type": "code",
   "execution_count": 4,
   "id": "b01a30f8",
   "metadata": {},
   "outputs": [],
   "source": [
    "nilai = [10,20,30]"
   ]
  },
  {
   "cell_type": "code",
   "execution_count": 5,
   "id": "dfd61f31",
   "metadata": {},
   "outputs": [],
   "source": [
    "hasil = []"
   ]
  },
  {
   "cell_type": "code",
   "execution_count": 6,
   "id": "63603753",
   "metadata": {},
   "outputs": [
    {
     "name": "stdout",
     "output_type": "stream",
     "text": [
      "[10000, 160000, 810000]\n"
     ]
    }
   ],
   "source": [
    "for i in nilai :\n",
    "    hasil.append(i**4)\n",
    "print(hasil)"
   ]
  },
  {
   "cell_type": "markdown",
   "id": "2ccd8ac8",
   "metadata": {},
   "source": [
    "OTHER EXAMPLES"
   ]
  },
  {
   "cell_type": "code",
   "execution_count": 7,
   "id": "1c9efa2f",
   "metadata": {},
   "outputs": [
    {
     "name": "stdout",
     "output_type": "stream",
     "text": [
      "[105, 112, 119]\n"
     ]
    }
   ],
   "source": [
    "bil = [15, 16, 17]\n",
    "\n",
    "rumus = []\n",
    "\n",
    "for i in bil :\n",
    "    rumus.append(i*7)\n",
    "print(rumus)"
   ]
  },
  {
   "cell_type": "markdown",
   "id": "8728811c",
   "metadata": {},
   "source": [
    "OTHER EXAMPLES"
   ]
  },
  {
   "cell_type": "code",
   "execution_count": 8,
   "id": "ac9f945a",
   "metadata": {},
   "outputs": [
    {
     "name": "stdout",
     "output_type": "stream",
     "text": [
      "['pepaya', 'pisang', 'alpukat']\n"
     ]
    }
   ],
   "source": [
    "buah = [\"pepaya\", \"pisang\", \"alpukat\", \"jeruk\"]\n",
    "\n",
    "listbaru = []\n",
    "\n",
    "for x in buah :\n",
    "    if \"p\" in x :\n",
    "        listbaru.append(x)\n",
    "print(listbaru)"
   ]
  },
  {
   "cell_type": "markdown",
   "id": "1fe8193c",
   "metadata": {},
   "source": [
    "- Writing the other way"
   ]
  },
  {
   "cell_type": "markdown",
   "id": "9cb712b0",
   "metadata": {},
   "source": [
    "new_list = [expression for_loop_one_or_more conditions]"
   ]
  },
  {
   "cell_type": "code",
   "execution_count": 9,
   "id": "90267e95",
   "metadata": {},
   "outputs": [],
   "source": [
    "angka = [2,3,4]"
   ]
  },
  {
   "cell_type": "code",
   "execution_count": 10,
   "id": "5b19c5f7",
   "metadata": {},
   "outputs": [],
   "source": [
    "kubik = [i**3 for i in angka]"
   ]
  },
  {
   "cell_type": "code",
   "execution_count": 11,
   "id": "7166bc9c",
   "metadata": {},
   "outputs": [
    {
     "name": "stdout",
     "output_type": "stream",
     "text": [
      "[8, 27, 64]\n"
     ]
    }
   ],
   "source": [
    "print(kubik)"
   ]
  },
  {
   "cell_type": "code",
   "execution_count": 12,
   "id": "48b414cd",
   "metadata": {},
   "outputs": [
    {
     "name": "stdout",
     "output_type": "stream",
     "text": [
      "['c']\n"
     ]
    }
   ],
   "source": [
    "abc = ['a', 'b', 'c']\n",
    "cde = ['c', 'd', 'e']\n",
    "\n",
    "duplikat = []\n",
    "\n",
    "for i in abc :\n",
    "    for j in cde :\n",
    "        if i == j :\n",
    "            duplikat.append(i)\n",
    "print(duplikat)"
   ]
  },
  {
   "cell_type": "markdown",
   "id": "efa6638e",
   "metadata": {},
   "source": [
    "- Writing the other way"
   ]
  },
  {
   "cell_type": "code",
   "execution_count": 13,
   "id": "614742e7",
   "metadata": {},
   "outputs": [
    {
     "name": "stdout",
     "output_type": "stream",
     "text": [
      "['c']\n"
     ]
    }
   ],
   "source": [
    "abc = ['a', 'b', 'c']\n",
    "cde = ['c', 'd', 'e']\n",
    "\n",
    "duplikat = [i for i in abc for j in cde if i == j]\n",
    "print(duplikat)"
   ]
  },
  {
   "cell_type": "markdown",
   "id": "e189cb39",
   "metadata": {},
   "source": [
    "TASK 2 - Making List Comprehension, For bertingkat, Conditional Expression"
   ]
  },
  {
   "cell_type": "code",
   "execution_count": 20,
   "id": "699b568f",
   "metadata": {},
   "outputs": [
    {
     "name": "stdout",
     "output_type": "stream",
     "text": [
      "['Remidi', 'Remidi', 'Pass', 'Fail']\n"
     ]
    }
   ],
   "source": [
    "nilaiujian = [760, 550, 980, 380]\n",
    "\n",
    "hasil = [\"Pass\" if i >= 800 else \"Fail\" if i < 400 else \"Remidi\" for i in nilaiujian]\n",
    "\n",
    "print(hasil)"
   ]
  },
  {
   "cell_type": "markdown",
   "id": "aab65934",
   "metadata": {},
   "source": [
    "### Functions upper"
   ]
  },
  {
   "cell_type": "code",
   "execution_count": 22,
   "id": "3cf41c1e",
   "metadata": {},
   "outputs": [
    {
     "name": "stdout",
     "output_type": "stream",
     "text": [
      "['DATA', 'ANALYST']\n"
     ]
    }
   ],
   "source": [
    "data = [\"data\", \"analyst\"]\n",
    "\n",
    "upper = [_.upper() for _ in data] #untuk output dengan huruf kapital\n",
    "\n",
    "print(upper)"
   ]
  },
  {
   "cell_type": "markdown",
   "id": "a55e4f06",
   "metadata": {},
   "source": [
    "### Python's Underscore"
   ]
  },
  {
   "cell_type": "markdown",
   "id": "b13f0862",
   "metadata": {},
   "source": [
    "- Underscores include valid variable naming.\n",
    "- In general, \"_\" is commonly used as a throwaway variable."
   ]
  },
  {
   "cell_type": "code",
   "execution_count": 26,
   "id": "dc14ef05",
   "metadata": {},
   "outputs": [
    {
     "name": "stdout",
     "output_type": "stream",
     "text": [
      "[[1, 1], [9, 27], [25, 125], [49, 343]]\n"
     ]
    }
   ],
   "source": [
    "angka = range(1, 8, 2)\n",
    "kuadrat_kubik = [[_**2, _**3] for _ in angka]\n",
    "print(kuadrat_kubik)"
   ]
  }
 ],
 "metadata": {
  "kernelspec": {
   "display_name": "Python 3 (ipykernel)",
   "language": "python",
   "name": "python3"
  },
  "language_info": {
   "codemirror_mode": {
    "name": "ipython",
    "version": 3
   },
   "file_extension": ".py",
   "mimetype": "text/x-python",
   "name": "python",
   "nbconvert_exporter": "python",
   "pygments_lexer": "ipython3",
   "version": "3.11.4"
  }
 },
 "nbformat": 4,
 "nbformat_minor": 5
}
