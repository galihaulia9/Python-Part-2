{
 "cells": [
  {
   "cell_type": "markdown",
   "id": "22f53aca",
   "metadata": {},
   "source": [
    "### Function (Fungsi)"
   ]
  },
  {
   "cell_type": "markdown",
   "id": "d2e474f6",
   "metadata": {},
   "source": [
    "- In math, a function is a process that relates an input to an output.\n",
    "- In Python, in addition to these relations, functions are also a way to organize code-with the ultimate goal of code (reusability).\n",
    "- Conversely, functions only have one specific use but can be reused.\n",
    "- Common functions are provided by Python.\n",
    "- But we can always define our own functions."
   ]
  },
  {
   "cell_type": "markdown",
   "id": "ac54402f",
   "metadata": {},
   "source": [
    "#### Defining Functions"
   ]
  },
  {
   "cell_type": "markdown",
   "id": "51ad2d6f",
   "metadata": {},
   "source": [
    "- Functions are defined with the def keyword followed by the function name and its parameters in brackets ().\n",
    "- Optionally, you can add docstrings that describe the context of the function.\n",
    "- The code block within each function starts with a colon and is indented.\n",
    "- The function stops when there is a return [expression] statement that returns [expression] to the caller.\n",
    "- You can also make the function return no output with return None."
   ]
  },
  {
   "cell_type": "code",
   "execution_count": 1,
   "id": "4356d7f2",
   "metadata": {},
   "outputs": [],
   "source": [
    "def pangkat(x) : #(pangkat merupakan nama fungsi sedangkan def untuk membuat fungsi, dalam kurung merupakan parameter)\n",
    "    kuadrat = x**2 #fungsi pangkat dua --> merupakan formula/rumus\n",
    "    return kuadrat"
   ]
  },
  {
   "cell_type": "code",
   "execution_count": 2,
   "id": "36c941f4",
   "metadata": {},
   "outputs": [
    {
     "data": {
      "text/plain": [
       "25"
      ]
     },
     "execution_count": 2,
     "metadata": {},
     "output_type": "execute_result"
    }
   ],
   "source": [
    "pangkat(5)"
   ]
  },
  {
   "cell_type": "code",
   "execution_count": 3,
   "id": "152f8f34",
   "metadata": {},
   "outputs": [
    {
     "data": {
      "text/plain": [
       "9"
      ]
     },
     "execution_count": 3,
     "metadata": {},
     "output_type": "execute_result"
    }
   ],
   "source": [
    "pangkat(3)"
   ]
  },
  {
   "cell_type": "code",
   "execution_count": 4,
   "id": "3a4c5447",
   "metadata": {},
   "outputs": [],
   "source": [
    "def pangkat_tiga(x) :\n",
    "    kubik = x**3 #fungsi pangkat tiga\n",
    "    print(kubik)"
   ]
  },
  {
   "cell_type": "code",
   "execution_count": 5,
   "id": "310122e9",
   "metadata": {},
   "outputs": [
    {
     "name": "stdout",
     "output_type": "stream",
     "text": [
      "8\n"
     ]
    }
   ],
   "source": [
    "pangkat_tiga(2)"
   ]
  },
  {
   "cell_type": "markdown",
   "id": "453fd336",
   "metadata": {},
   "source": [
    "TASK 1 - Making Function/Fungsi"
   ]
  },
  {
   "cell_type": "code",
   "execution_count": 6,
   "id": "68ab7b42",
   "metadata": {},
   "outputs": [
    {
     "name": "stdout",
     "output_type": "stream",
     "text": [
      "Luas persegi panjang =  28\n"
     ]
    }
   ],
   "source": [
    "def hitung_luas_persegi_panjang(panjang, lebar) :\n",
    "    luas = (panjang * lebar)\n",
    "    return luas\n",
    "angka = hitung_luas_persegi_panjang(7, 4)\n",
    "print(\"Luas persegi panjang = \", angka)"
   ]
  },
  {
   "cell_type": "markdown",
   "id": "7abc1cc5",
   "metadata": {},
   "source": [
    "By default, Python will position each parameter according to the order in which it was registered when defined, and it should be called accordingly."
   ]
  },
  {
   "cell_type": "code",
   "execution_count": 7,
   "id": "648eb843",
   "metadata": {},
   "outputs": [],
   "source": [
    "def nama(x) :\n",
    "    halo = \"Hai {}\". format(x)\n",
    "    return halo"
   ]
  },
  {
   "cell_type": "code",
   "execution_count": 8,
   "id": "2af3a32f",
   "metadata": {},
   "outputs": [
    {
     "data": {
      "text/plain": [
       "'Hai Aulia'"
      ]
     },
     "execution_count": 8,
     "metadata": {},
     "output_type": "execute_result"
    }
   ],
   "source": [
    "nama(\"Aulia\")"
   ]
  },
  {
   "cell_type": "markdown",
   "id": "8a43ae66",
   "metadata": {},
   "source": [
    "### Return"
   ]
  },
  {
   "cell_type": "markdown",
   "id": "0b8578a3",
   "metadata": {},
   "source": [
    "The return [expression] statement will make the program execution exit the current function, while returning a specific value."
   ]
  },
  {
   "cell_type": "code",
   "execution_count": 9,
   "id": "d8651842",
   "metadata": {},
   "outputs": [],
   "source": [
    "def tambah(x,y) :\n",
    "    plus = x + y #fungsi penjumlahan\n",
    "    print(\"Hasil penjumlahan adalah {}\". format(plus))\n",
    "    return plus"
   ]
  },
  {
   "cell_type": "code",
   "execution_count": 10,
   "id": "8fd26768",
   "metadata": {},
   "outputs": [
    {
     "name": "stdout",
     "output_type": "stream",
     "text": [
      "Hasil penjumlahan adalah 5\n"
     ]
    },
    {
     "data": {
      "text/plain": [
       "5"
      ]
     },
     "execution_count": 10,
     "metadata": {},
     "output_type": "execute_result"
    }
   ],
   "source": [
    "tambah(2,3)"
   ]
  },
  {
   "cell_type": "code",
   "execution_count": 11,
   "id": "6dc7afef",
   "metadata": {},
   "outputs": [
    {
     "name": "stdout",
     "output_type": "stream",
     "text": [
      "Hasil penjumlahan adalah 5\n",
      "Hasil dari return adalah 5\n"
     ]
    }
   ],
   "source": [
    "output = tambah(2,3)\n",
    "print(\"Hasil dari return adalah {}\". format(output))"
   ]
  },
  {
   "cell_type": "markdown",
   "id": "b37f298a",
   "metadata": {},
   "source": [
    "TASK 2 - Making 1 Function (2 parameters) & 2 formulas"
   ]
  },
  {
   "cell_type": "code",
   "execution_count": 12,
   "id": "cd58e78b",
   "metadata": {},
   "outputs": [],
   "source": [
    "def operator(a, b):\n",
    "    perkalian = a*b\n",
    "    pembagian = a/b\n",
    "    print(\"hasil pekalian adalah {}\".format(perkalian))\n",
    "    print(\"hasil pembagian adalah {}\".format(pembagian))\n",
    "    return perkalian\n",
    "    return pembagian"
   ]
  },
  {
   "cell_type": "code",
   "execution_count": 13,
   "id": "6bcce3f8",
   "metadata": {},
   "outputs": [
    {
     "name": "stdout",
     "output_type": "stream",
     "text": [
      "hasil pekalian adalah 32\n",
      "hasil pembagian adalah 2.0\n",
      "hasil return adalah 32\n",
      "hasil pekalian adalah 80\n",
      "hasil pembagian adalah 5.0\n",
      "hasil return adalah 80\n"
     ]
    }
   ],
   "source": [
    "hasil = operator(8, 4)\n",
    "print(\"hasil return adalah {}\". format(hasil))\n",
    "\n",
    "hasil = operator(20, 4)\n",
    "print(\"hasil return adalah {}\". format(hasil))"
   ]
  },
  {
   "cell_type": "markdown",
   "id": "f4a5e5d7",
   "metadata": {},
   "source": [
    "OTHER EXAMPLES"
   ]
  },
  {
   "cell_type": "code",
   "execution_count": 14,
   "id": "a9e65ea9",
   "metadata": {},
   "outputs": [
    {
     "name": "stdout",
     "output_type": "stream",
     "text": [
      "Hasil dari rumus pertama adalah =  19\n",
      "Hasil dari rumus kedua adalah =  64\n"
     ]
    }
   ],
   "source": [
    "def hitung_rumus(rumus, a, b):\n",
    "    if rumus == 1:\n",
    "        hasil = a + b\n",
    "    elif rumus == 2:\n",
    "        hasil = a ** b\n",
    "    else:\n",
    "        hasil = None  \n",
    "    return hasil\n",
    "\n",
    "#  rumus 1\n",
    "nilai_1 = hitung_rumus(1, 9, 10)\n",
    "print(\"Hasil dari rumus pertama adalah = \", nilai_1)\n",
    "\n",
    "#  rumus 2\n",
    "nilai_2 = hitung_rumus(2, 2, 6)\n",
    "print(\"Hasil dari rumus kedua adalah = \", nilai_2)"
   ]
  },
  {
   "cell_type": "markdown",
   "id": "76c3750a",
   "metadata": {},
   "source": [
    "- The return value of a function can be stored in a variable.\n",
    "- This will distinguish a function that returns a value from a function that does not return a value (often referred to as a procedure)."
   ]
  },
  {
   "cell_type": "code",
   "execution_count": 15,
   "id": "c2f0c9bc",
   "metadata": {},
   "outputs": [],
   "source": [
    "def operasi_hitung(a,b) :\n",
    "    tambah = a + b\n",
    "    kali = a * b\n",
    "    bagi = a / b\n",
    "    return tambah"
   ]
  },
  {
   "cell_type": "code",
   "execution_count": 16,
   "id": "b4ac10f2",
   "metadata": {},
   "outputs": [
    {
     "data": {
      "text/plain": [
       "12"
      ]
     },
     "execution_count": 16,
     "metadata": {},
     "output_type": "execute_result"
    }
   ],
   "source": [
    "operasi_hitung(5,7)"
   ]
  },
  {
   "cell_type": "code",
   "execution_count": 17,
   "id": "22af0cfb",
   "metadata": {},
   "outputs": [
    {
     "name": "stdout",
     "output_type": "stream",
     "text": [
      "Hasil adalah 12\n"
     ]
    }
   ],
   "source": [
    "output_tambah = operasi_hitung(5,7)\n",
    "print(\"Hasil adalah {}\". format(output_tambah))"
   ]
  }
 ],
 "metadata": {
  "kernelspec": {
   "display_name": "Python 3 (ipykernel)",
   "language": "python",
   "name": "python3"
  },
  "language_info": {
   "codemirror_mode": {
    "name": "ipython",
    "version": 3
   },
   "file_extension": ".py",
   "mimetype": "text/x-python",
   "name": "python",
   "nbconvert_exporter": "python",
   "pygments_lexer": "ipython3",
   "version": "3.11.4"
  }
 },
 "nbformat": 4,
 "nbformat_minor": 5
}
