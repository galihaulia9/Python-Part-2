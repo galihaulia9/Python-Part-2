{
 "cells": [
  {
   "cell_type": "markdown",
   "id": "d09e66e1",
   "metadata": {},
   "source": [
    "### Else after For"
   ]
  },
  {
   "cell_type": "markdown",
   "id": "1920dcc9",
   "metadata": {},
   "source": [
    "The else function after for is a search-first loop to give the program a way out when a search is not found."
   ]
  },
  {
   "cell_type": "code",
   "execution_count": null,
   "id": "04fa61cd",
   "metadata": {},
   "outputs": [],
   "source": [
    "for i in range(1,7) :\n",
    "    if i % 2 == 0 :\n",
    "        print(\"{} adalah genap\".format(i))\n",
    "    else :\n",
    "        print(\"{} adalah bukan genap\".format(i))"
   ]
  },
  {
   "cell_type": "markdown",
   "id": "ef338fce",
   "metadata": {},
   "source": [
    "TASK 1 - Making Conditional Expression with Looping For"
   ]
  },
  {
   "cell_type": "code",
   "execution_count": 1,
   "id": "9542c512",
   "metadata": {},
   "outputs": [
    {
     "name": "stdout",
     "output_type": "stream",
     "text": [
      "Bilangan terbesar adalah: 28\n",
      "Bilangan terkecil adalah: 6\n"
     ]
    }
   ],
   "source": [
    "numbers = [17, 22, 28, 6, 10, 18]\n",
    "max_num = numbers[0]\n",
    "min_num = numbers[0]\n",
    "\n",
    "for num in numbers:\n",
    "    if num > max_num:\n",
    "        max_num = num\n",
    "    elif num < min_num:\n",
    "        min_num = num\n",
    "else:\n",
    "    print(\"Bilangan terbesar adalah:\", max_num)\n",
    "    print(\"Bilangan terkecil adalah:\", min_num)"
   ]
  },
  {
   "cell_type": "markdown",
   "id": "72f43106",
   "metadata": {},
   "source": [
    "### Functions Break"
   ]
  },
  {
   "cell_type": "markdown",
   "id": "def11f1f",
   "metadata": {},
   "source": [
    "- The Break statement stops the loop then exits, followed by executing the statement after the looping block.\n",
    "- If you have a nested loop, Break will stop the loop according to which level or loop it is in.\n",
    "- However, if it is placed in the second-deepest loop for example, only that loop stops, not the main loop."
   ]
  },
  {
   "cell_type": "code",
   "execution_count": 25,
   "id": "8d895fd2",
   "metadata": {},
   "outputs": [
    {
     "name": "stdout",
     "output_type": "stream",
     "text": [
      "D\n",
      "a\n",
      "t\n",
      "a\n"
     ]
    }
   ],
   "source": [
    "for i in \"Data Analyst\" :\n",
    "    if i == \" \" :\n",
    "        break\n",
    "    print(i)"
   ]
  },
  {
   "cell_type": "markdown",
   "id": "34e40ea8",
   "metadata": {},
   "source": [
    "TASK 2 - Making For Loop dengan Conditional Expression dan Function Break"
   ]
  },
  {
   "cell_type": "code",
   "execution_count": null,
   "id": "30a23cdf",
   "metadata": {},
   "outputs": [],
   "source": [
    "i = 1\n",
    "while i <=10 :\n",
    "    print(i, 'x' ,i , '=' ,i*i)\n",
    "    if i == 0 :\n",
    "        break \n",
    "    i += 1"
   ]
  },
  {
   "cell_type": "markdown",
   "id": "017ca65b",
   "metadata": {},
   "source": [
    "### Functions Continue"
   ]
  },
  {
   "cell_type": "markdown",
   "id": "a2b8fc3f",
   "metadata": {},
   "source": [
    "- The Continue statement will make the current iteration stop.\n",
    "- It then continues to the next iteration.\n",
    "- Ignore statements that are between Continue and the end of the looping block."
   ]
  },
  {
   "cell_type": "code",
   "execution_count": null,
   "id": "c5734c62",
   "metadata": {},
   "outputs": [],
   "source": [
    "for i in \"Data Analyst\" :\n",
    "    if i == \"a\" :\n",
    "        continue\n",
    "    print(i)"
   ]
  },
  {
   "cell_type": "markdown",
   "id": "4f2fe39f",
   "metadata": {},
   "source": [
    "TASK 3 - Making For Loop with Conditional Expression, Function Break and Continue"
   ]
  },
  {
   "cell_type": "code",
   "execution_count": 12,
   "id": "90371734",
   "metadata": {},
   "outputs": [
    {
     "name": "stdout",
     "output_type": "stream",
     "text": [
      "1\n",
      "2\n",
      "3\n",
      "4\n",
      "Dijumpai bilangan habis dibagi 5 tetapi bukan habis dibagi 3\n",
      "6\n",
      "7\n",
      "8\n",
      "9\n",
      "Dijumpai bilangan habis dibagi 5 tetapi bukan habis dibagi 3\n",
      "11\n",
      "12\n",
      "13\n",
      "14\n",
      "Dijumpai bilangan habis dibagi 3 dan 5\n",
      "!!!Selesai!!!\n"
     ]
    }
   ],
   "source": [
    "for nomor in range(1, 21) :\n",
    "    if nomor % 5 == 0 :\n",
    "        if nomor % 3 == 0 :\n",
    "            print(\"Dijumpai bilangan habis dibagi 3 dan 5\")\n",
    "            break\n",
    "        else :\n",
    "            print(\"Dijumpai bilangan habis dibagi 5 tetapi bukan habis dibagi 3\")\n",
    "            continue\n",
    "    print(nomor)\n",
    "print(\"!!!Selesai!!!\")"
   ]
  }
 ],
 "metadata": {
  "kernelspec": {
   "display_name": "Python 3 (ipykernel)",
   "language": "python",
   "name": "python3"
  },
  "language_info": {
   "codemirror_mode": {
    "name": "ipython",
    "version": 3
   },
   "file_extension": ".py",
   "mimetype": "text/x-python",
   "name": "python",
   "nbconvert_exporter": "python",
   "pygments_lexer": "ipython3",
   "version": "3.11.4"
  }
 },
 "nbformat": 4,
 "nbformat_minor": 5
}
